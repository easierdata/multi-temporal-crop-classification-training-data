{
 "cells": [
  {
   "cell_type": "code",
   "execution_count": null,
   "id": "4837010a-4e11-4182-9b7b-7a80a714124f",
   "metadata": {
    "tags": []
   },
   "outputs": [],
   "source": [
    "import glob\n",
    "import os\n",
    "import numpy as np\n",
    "import sklearn\n"
   ]
  },
  {
   "cell_type": "markdown",
   "id": "a7d149ef-9a52-43d8-817e-d1f1f1de2804",
   "metadata": {
    "tags": []
   },
   "source": [
    "## Get distribution"
   ]
  },
  {
   "cell_type": "code",
   "execution_count": null,
   "id": "3a9d63ae-dd2a-4de3-8676-7011cea708b7",
   "metadata": {
    "tags": []
   },
   "outputs": [
    {
     "data": {
      "text/plain": [
       "['C:\\\\github\\\\client_projects\\\\umd\\\\multi-temporal-crop-classification-training-data\\\\data\\\\training_datasets\\\\training_data\\\\chips_filtered\\\\chip_000_022.mask.tif',\n",
       " 'C:\\\\github\\\\client_projects\\\\umd\\\\multi-temporal-crop-classification-training-data\\\\data\\\\training_datasets\\\\training_data\\\\chips_filtered\\\\chip_000_023.mask.tif',\n",
       " 'C:\\\\github\\\\client_projects\\\\umd\\\\multi-temporal-crop-classification-training-data\\\\data\\\\training_datasets\\\\training_data\\\\chips_filtered\\\\chip_000_024.mask.tif',\n",
       " 'C:\\\\github\\\\client_projects\\\\umd\\\\multi-temporal-crop-classification-training-data\\\\data\\\\training_datasets\\\\training_data\\\\chips_filtered\\\\chip_000_027.mask.tif',\n",
       " 'C:\\\\github\\\\client_projects\\\\umd\\\\multi-temporal-crop-classification-training-data\\\\data\\\\training_datasets\\\\training_data\\\\chips_filtered\\\\chip_000_028.mask.tif',\n",
       " 'C:\\\\github\\\\client_projects\\\\umd\\\\multi-temporal-crop-classification-training-data\\\\data\\\\training_datasets\\\\training_data\\\\chips_filtered\\\\chip_000_029.mask.tif',\n",
       " 'C:\\\\github\\\\client_projects\\\\umd\\\\multi-temporal-crop-classification-training-data\\\\data\\\\training_datasets\\\\training_data\\\\chips_filtered\\\\chip_000_030.mask.tif',\n",
       " 'C:\\\\github\\\\client_projects\\\\umd\\\\multi-temporal-crop-classification-training-data\\\\data\\\\training_datasets\\\\training_data\\\\chips_filtered\\\\chip_000_031.mask.tif',\n",
       " 'C:\\\\github\\\\client_projects\\\\umd\\\\multi-temporal-crop-classification-training-data\\\\data\\\\training_datasets\\\\training_data\\\\chips_filtered\\\\chip_000_035.mask.tif',\n",
       " 'C:\\\\github\\\\client_projects\\\\umd\\\\multi-temporal-crop-classification-training-data\\\\data\\\\training_datasets\\\\training_data\\\\chips_filtered\\\\chip_000_039.mask.tif']"
      ]
     },
     "execution_count": 3,
     "metadata": {},
     "output_type": "execute_result"
    }
   ],
   "source": [
    "files = glob.glob(\n",
    "    r\"C:\\github\\client_projects\\umd\\multi-temporal-crop-classification-training-data\\data\\training_datasets\\training_data\\chips_filtered\\**mask**\"\n",
    ")\n",
    "files[0:10]\n"
   ]
  },
  {
   "cell_type": "code",
   "execution_count": null,
   "id": "5756b368-d286-4edb-becd-c725e43cf518",
   "metadata": {
    "tags": []
   },
   "outputs": [],
   "source": [
    "import rasterio\n",
    "\n",
    "\n",
    "def open_tiff(fname):\n",
    "\n",
    "    with rasterio.open(fname, \"r\") as src:\n",
    "\n",
    "        data = src.read()\n",
    "\n",
    "    return data\n"
   ]
  },
  {
   "cell_type": "code",
   "execution_count": null,
   "id": "8b44450b-58f9-4380-9e45-9d9fe3c91f39",
   "metadata": {
    "tags": []
   },
   "outputs": [],
   "source": [
    "y = []\n",
    "for file in files:\n",
    "\n",
    "    data = open_tiff(file)\n",
    "    y.append(data.flatten())\n"
   ]
  },
  {
   "cell_type": "code",
   "execution_count": null,
   "id": "bce00c2f-43fd-4386-8871-3a158e61ef78",
   "metadata": {},
   "outputs": [],
   "source": [
    "y_stack = np.vstack(y)\n"
   ]
  },
  {
   "cell_type": "code",
   "execution_count": null,
   "id": "cc1295ba-f95e-4022-8de9-73e383faef4f",
   "metadata": {
    "tags": []
   },
   "outputs": [],
   "source": [
    "y_flatten = y_stack.flatten()\n"
   ]
  },
  {
   "cell_type": "code",
   "execution_count": null,
   "id": "4fb6f0fa-df8f-4734-a878-1971a7e540aa",
   "metadata": {
    "tags": []
   },
   "outputs": [],
   "source": [
    "class_weights = sklearn.utils.class_weight.compute_class_weight(\n",
    "    \"balanced\",\n",
    "    classes=np.unique(np.ravel(y_flatten, order=\"C\")),\n",
    "    y=np.ravel(y_flatten, order=\"C\"),\n",
    ")\n"
   ]
  },
  {
   "cell_type": "code",
   "execution_count": null,
   "id": "09330241-f7cb-4c4a-a212-cc386612ba93",
   "metadata": {
    "tags": []
   },
   "outputs": [
    {
     "data": {
      "text/plain": [
       "array([3.84088124e-01, 3.18123019e-01, 5.89556198e-01, 7.20053651e-01,\n",
       "       8.99917584e-01, 5.01607064e-01, 3.67895373e+00, 1.63641522e+01,\n",
       "       1.09443570e+01, 8.10654541e+01, 8.65822869e+03, 7.62930368e+01,\n",
       "       1.63037562e+00])"
      ]
     },
     "execution_count": 9,
     "metadata": {},
     "output_type": "execute_result"
    }
   ],
   "source": [
    "class_weights\n"
   ]
  },
  {
   "cell_type": "code",
   "execution_count": null,
   "id": "3235db77-d8d7-4fad-ac50-508d155c0a4f",
   "metadata": {},
   "outputs": [
    {
     "data": {
      "text/plain": [
       "array([4.33918532e-05, 3.59395318e-05, 6.66043398e-05, 8.13471188e-05,\n",
       "       1.01667011e-04, 5.66684016e-05, 4.15624983e-04, 1.84871868e-03,\n",
       "       1.23642440e-03, 9.15826358e-03, 9.78152055e-01, 8.61910598e-03,\n",
       "       1.84189552e-04])"
      ]
     },
     "execution_count": 10,
     "metadata": {},
     "output_type": "execute_result"
    }
   ],
   "source": [
    "class_weights / np.sum(class_weights)\n"
   ]
  },
  {
   "cell_type": "code",
   "execution_count": null,
   "id": "e46c057b-3898-4ee8-9394-fd463e946430",
   "metadata": {},
   "outputs": [],
   "source": []
  }
 ],
 "metadata": {
  "kernelspec": {
   "display_name": ".venv",
   "language": "python",
   "name": "python3"
  },
  "language_info": {
   "codemirror_mode": {
    "name": "ipython",
    "version": 3
   },
   "file_extension": ".py",
   "mimetype": "text/x-python",
   "name": "python",
   "nbconvert_exporter": "python",
   "pygments_lexer": "ipython3",
   "version": "3.11.7"
  }
 },
 "nbformat": 4,
 "nbformat_minor": 5
}
